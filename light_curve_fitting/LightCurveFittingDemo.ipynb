{
 "cells": [
  {
   "cell_type": "markdown",
   "metadata": {},
   "source": [
    "**Provided with Permission from the STScI Enabling Transiting Exoplanet Observations Workshop 2016**\n",
    "\n",
    "https://github.com/ExoCTK/ETEO_JWST"
   ]
  },
  {
   "cell_type": "markdown",
   "metadata": {},
   "source": [
    "# TRANSIT LIGHT CURVE FITTING with BATMAN and LMFIT\n",
    "Thanks to Laura Kreidberg for the development of BATMAN (cite: Kriedberg (2015), PASP) and the excellent documentation maintained here:  http://astro.uchicago.edu/~kreidberg/batman/index.html\n",
    "\n",
    "LMFIT (Non-Linear Least-Square Minimization and Curve-Fitting for Python, cite: Newville et al, 2014, 10.5281/zenodo.11813) documentation is maintained here: http://cars9.uchicago.edu/software/python/lmfit/index.html"
   ]
  },
  {
   "cell_type": "markdown",
   "metadata": {},
   "source": [
    "This notebook will walk you through the process of fitting wavelength dependent transits to produce a planetary atmospheric spectrum.  This exercise was compiled by Kevin Stevenson (STScI) with substantial inputs from Nikole Lewis (STScI), Jonathan Fraine (STScI), and Laura Kreidberg (Harvard)."
   ]
  },
  {
   "cell_type": "markdown",
   "metadata": {},
   "source": [
    "You may need to install/upgrade some packages:\n",
    "1. BATMAN: pip install batman-package\n",
    "2. LMFIT:  pip install lmfit\n",
    "3. SciPy:  pip install scipy --upgrade  **OR**  easy_install --upgrade scipy\n",
    "4. NumPy:  pip install numpy --upgrade  **OR**  easy_install --upgrade numpy"
   ]
  },
  {
   "cell_type": "code",
   "execution_count": 1,
   "metadata": {},
   "outputs": [
    {
     "name": "stdout",
     "output_type": "stream",
     "text": [
      "Requirement already up-to-date: batman-package in /Users/jonathan/anaconda3/lib/python3.6/site-packages (2.4.6)\n",
      "\u001b[31mkeras 2.2.2 has requirement keras-applications==1.0.4, but you'll have keras-applications 1.0.6 which is incompatible.\u001b[0m\n",
      "\u001b[31mkeras 2.2.2 has requirement keras-preprocessing==1.0.2, but you'll have keras-preprocessing 1.0.5 which is incompatible.\u001b[0m\n",
      "\u001b[31mdask-ml 0.11.0 has requirement scikit-learn>=0.20, but you'll have scikit-learn 0.19.1 which is incompatible.\u001b[0m\n",
      "\u001b[31mawscli 1.16.41 has requirement botocore==1.12.31, but you'll have botocore 1.12.33 which is incompatible.\u001b[0m\n",
      "\u001b[31mpyql 0.0.0 has requirement bokeh==0.12.3, but you'll have bokeh 1.0.0 which is incompatible.\u001b[0m\n"
     ]
    }
   ],
   "source": [
    "!pip install -U batman-package"
   ]
  },
  {
   "cell_type": "code",
   "execution_count": 2,
   "metadata": {},
   "outputs": [
    {
     "name": "stdout",
     "output_type": "stream",
     "text": [
      "Requirement already up-to-date: lmfit in /Users/jonathan/anaconda3/lib/python3.6/site-packages/lmfit-0.9.11-py3.6.egg (0.9.11)\n",
      "Requirement not upgraded as not directly required: six>1.10 in /Users/jonathan/anaconda3/lib/python3.6/site-packages (from lmfit) (1.11.0)\n",
      "Requirement not upgraded as not directly required: numpy>=1.10 in /Users/jonathan/anaconda3/lib/python3.6/site-packages (from lmfit) (1.15.4)\n",
      "Requirement not upgraded as not directly required: scipy>=0.17 in /Users/jonathan/anaconda3/lib/python3.6/site-packages (from lmfit) (1.1.0)\n",
      "Requirement not upgraded as not directly required: asteval>=0.9.12 in /Users/jonathan/anaconda3/lib/python3.6/site-packages/asteval-0.9.13-py3.6.egg (from lmfit) (0.9.13)\n",
      "Requirement not upgraded as not directly required: uncertainties>=3.0 in /Users/jonathan/anaconda3/lib/python3.6/site-packages/uncertainties-3.0.2-py3.6.egg (from lmfit) (3.0.2)\n",
      "\u001b[31mkeras 2.2.2 has requirement keras-applications==1.0.4, but you'll have keras-applications 1.0.6 which is incompatible.\u001b[0m\n",
      "\u001b[31mkeras 2.2.2 has requirement keras-preprocessing==1.0.2, but you'll have keras-preprocessing 1.0.5 which is incompatible.\u001b[0m\n",
      "\u001b[31mdask-ml 0.11.0 has requirement scikit-learn>=0.20, but you'll have scikit-learn 0.19.1 which is incompatible.\u001b[0m\n",
      "\u001b[31mawscli 1.16.41 has requirement botocore==1.12.31, but you'll have botocore 1.12.33 which is incompatible.\u001b[0m\n",
      "\u001b[31mpyql 0.0.0 has requirement bokeh==0.12.3, but you'll have bokeh 1.0.0 which is incompatible.\u001b[0m\n"
     ]
    }
   ],
   "source": [
    "!pip install -U lmfit"
   ]
  },
  {
   "cell_type": "code",
   "execution_count": 3,
   "metadata": {},
   "outputs": [
    {
     "name": "stdout",
     "output_type": "stream",
     "text": [
      "Requirement already up-to-date: scipy in /Users/jonathan/anaconda3/lib/python3.6/site-packages (1.1.0)\n",
      "\u001b[31mkeras 2.2.2 has requirement keras-applications==1.0.4, but you'll have keras-applications 1.0.6 which is incompatible.\u001b[0m\n",
      "\u001b[31mkeras 2.2.2 has requirement keras-preprocessing==1.0.2, but you'll have keras-preprocessing 1.0.5 which is incompatible.\u001b[0m\n",
      "\u001b[31mdask-ml 0.11.0 has requirement scikit-learn>=0.20, but you'll have scikit-learn 0.19.1 which is incompatible.\u001b[0m\n",
      "\u001b[31mawscli 1.16.41 has requirement botocore==1.12.31, but you'll have botocore 1.12.33 which is incompatible.\u001b[0m\n",
      "\u001b[31mpyql 0.0.0 has requirement bokeh==0.12.3, but you'll have bokeh 1.0.0 which is incompatible.\u001b[0m\n"
     ]
    }
   ],
   "source": [
    "!pip install -U scipy"
   ]
  },
  {
   "cell_type": "code",
   "execution_count": 4,
   "metadata": {},
   "outputs": [
    {
     "name": "stdout",
     "output_type": "stream",
     "text": [
      "Requirement already up-to-date: numpy in /Users/jonathan/anaconda3/lib/python3.6/site-packages (1.15.4)\n",
      "\u001b[31mkeras 2.2.2 has requirement keras-applications==1.0.4, but you'll have keras-applications 1.0.6 which is incompatible.\u001b[0m\n",
      "\u001b[31mkeras 2.2.2 has requirement keras-preprocessing==1.0.2, but you'll have keras-preprocessing 1.0.5 which is incompatible.\u001b[0m\n",
      "\u001b[31mdask-ml 0.11.0 has requirement scikit-learn>=0.20, but you'll have scikit-learn 0.19.1 which is incompatible.\u001b[0m\n",
      "\u001b[31mawscli 1.16.41 has requirement botocore==1.12.31, but you'll have botocore 1.12.33 which is incompatible.\u001b[0m\n",
      "\u001b[31mpyql 0.0.0 has requirement bokeh==0.12.3, but you'll have bokeh 1.0.0 which is incompatible.\u001b[0m\n"
     ]
    }
   ],
   "source": [
    "!pip install -U numpy"
   ]
  },
  {
   "cell_type": "markdown",
   "metadata": {},
   "source": [
    "Here we need to grab the data to store it locally"
   ]
  },
  {
   "cell_type": "code",
   "execution_count": 24,
   "metadata": {},
   "outputs": [
    {
     "name": "stdout",
     "output_type": "stream",
     "text": [
      "Cloning into 'Exoplanets_ArASIII_Workshop'...\n",
      "remote: Enumerating objects: 14, done.\u001b[K\n",
      "remote: Counting objects: 100% (14/14), done.\u001b[K\n",
      "remote: Compressing objects: 100% (14/14), done.\u001b[K\n",
      "^C\n"
     ]
    }
   ],
   "source": [
    "git archive --remote=ssh://github.com/exowanderer/Exoplanets_ArASIII_Workshop.git HEAD light_curve_fitting/WASP107_LDC.txt"
   ]
  },
  {
   "cell_type": "code",
   "execution_count": 25,
   "metadata": {},
   "outputs": [
    {
     "name": "stdout",
     "output_type": "stream",
     "text": [
      "Cloning into 'Exoplanets_ArASIII_Workshop'...\n",
      "remote: Enumerating objects: 14, done.\u001b[K\n",
      "remote: Counting objects: 100% (14/14), done.\u001b[K\n",
      "remote: Compressing objects: 100% (14/14), done.\u001b[K\n",
      "^C\n"
     ]
    }
   ],
   "source": [
    "git archive --remote=ssh://github.com/exowanderer/Exoplanets_ArASIII_Workshop.git HEAD light_curve_fitting/WASP107_LDC_WL.txt"
   ]
  },
  {
   "cell_type": "code",
   "execution_count": 26,
   "metadata": {},
   "outputs": [
    {
     "name": "stdout",
     "output_type": "stream",
     "text": [
      "Cloning into 'Exoplanets_ArASIII_Workshop'...\n",
      "remote: Enumerating objects: 14, done.\u001b[K\n",
      "remote: Counting objects: 100% (14/14), done.\u001b[K\n",
      "remote: Compressing objects: 100% (14/14), done.\u001b[K\n",
      "^C\n"
     ]
    }
   ],
   "source": [
    "git archive --remote=ssh://github.com/exowanderer/Exoplanets_ArASIII_Workshop.git HEAD light_curve_fitting/WASP107b-Spec1D.npz"
   ]
  },
  {
   "cell_type": "markdown",
   "metadata": {},
   "source": [
    "---\n",
    "### Import required libraries"
   ]
  },
  {
   "cell_type": "code",
   "execution_count": 8,
   "metadata": {},
   "outputs": [],
   "source": [
    "\n",
    "import numpy as np\n",
    "import matplotlib.pyplot as plt\n",
    "import batman\n",
    "import lmfit\n",
    "%matplotlib inline"
   ]
  },
  {
   "cell_type": "markdown",
   "metadata": {},
   "source": [
    "**In the next cell we define a wrapper function to assist with our fitting and allow us to interface with BATMAN and LMFIT.**"
   ]
  },
  {
   "cell_type": "code",
   "execution_count": 9,
   "metadata": {
    "collapsed": true
   },
   "outputs": [],
   "source": [
    "def batman_wrapper_lmfit(period, tcenter, inc, aprs, rprs, ecc, omega, u1, u2, \n",
    "                         offset, slope, curvature,\n",
    "                         times, ldtype='quadratic', transitType='primary'):\n",
    "    '''\n",
    "        Written By Jonathan Fraine\n",
    "        https://github.com/exowanderer/Fitting-Exoplanet-Transits\n",
    "    '''\n",
    "    bm_params           = batman.TransitParams() # object to store transit parameters\n",
    "    bm_params.per       = period   # orbital period\n",
    "    bm_params.t0        = tcenter  # time of inferior conjunction\n",
    "    bm_params.inc       = inc      # inclunaition in degrees\n",
    "    bm_params.a         = aprs     # semi-major axis (in units of stellar radii)\n",
    "    bm_params.rp        = rprs     # planet radius (in units of stellar radii)\n",
    "    bm_params.ecc       = ecc      # eccentricity\n",
    "    bm_params.w         = omega    # longitude of periastron (in degrees)\n",
    "    bm_params.limb_dark = ldtype   # limb darkening model \n",
    "    bm_params.u         = [u1, u2] # limb darkening coefficients \n",
    "\n",
    "    m_eclipse = batman.TransitModel(bm_params, times, transittype=transitType)# initializes model\n",
    "\n",
    "    # OoT == Out of transit    \n",
    "    OoT_curvature = offset + slope*(times-times.mean()) + curvature*(times-times.mean())**2\n",
    "    \n",
    "    return m_eclipse.light_curve(bm_params) * OoT_curvature"
   ]
  },
  {
   "cell_type": "code",
   "execution_count": 10,
   "metadata": {},
   "outputs": [
    {
     "data": {
      "text/plain": [
       "Parameters([('rprs', <Parameter 'rprs', 0.147, bounds=[0.0:0.2]>),\n",
       "            ('period',\n",
       "             <Parameter 'period', value=5.72149 (fixed), bounds=[-inf:inf]>),\n",
       "            ('tcenter', <Parameter 'tcenter', 0.0, bounds=[-0.1:0.1]>),\n",
       "            ('inc', <Parameter 'inc', 89.7, bounds=[80.0:90.0]>),\n",
       "            ('aprs', <Parameter 'aprs', 18.2, bounds=[15.0:20.0]>),\n",
       "            ('ecc', <Parameter 'ecc', value=0.0 (fixed), bounds=[-inf:inf]>),\n",
       "            ('omega',\n",
       "             <Parameter 'omega', value=90.0 (fixed), bounds=[-inf:inf]>),\n",
       "            ('u1', <Parameter 'u1', 0.284, bounds=[0.0:1.0]>),\n",
       "            ('u2', <Parameter 'u2', 0.208, bounds=[0.0:1.0]>),\n",
       "            ('offset', <Parameter 'offset', 1.0, bounds=[0.0:inf]>),\n",
       "            ('slope',\n",
       "             <Parameter 'slope', value=0.0 (fixed), bounds=[-inf:inf]>),\n",
       "            ('curvature',\n",
       "             <Parameter 'curvature', value=0.0 (fixed), bounds=[-inf:inf]>)])"
      ]
     },
     "execution_count": 10,
     "metadata": {},
     "output_type": "execute_result"
    }
   ],
   "source": [
    "# Set initial parameters using an ordered dictionary of Parameter objects\n",
    "initialParams = lmfit.Parameters()\n",
    "# Format: (key, value, vary?, min, max)\n",
    "initialParams.add_many(                     # WASP-107b paramters from Anderson et al (2017)\n",
    "    ('rprs' , 0.147, True, 0.0, 0.2),\n",
    "    ('period' , 5.721490, False),\n",
    "    ('tcenter' , 0., True, -0.1, 0.1),\n",
    "    ('inc' , 89.7, True, 80., 90.),\n",
    "    ('aprs' , 18.2, True, 15., 20.),\n",
    "    ('ecc' , 0., False),\n",
    "    ('omega' , 90., False),\n",
    "    ('u1' , 0.284, True, 0., 1.),\n",
    "    ('u2' , 0.208, True, 0., 1.),\n",
    "    ('offset', 1.0, True, 0.0),\n",
    "    ('slope', 0.0, False),\n",
    "    ('curvature', 0.0, False))\n",
    "# Show the results\n",
    "initialParams"
   ]
  },
  {
   "cell_type": "markdown",
   "metadata": {},
   "source": [
    "### Let's generate some fake data."
   ]
  },
  {
   "cell_type": "code",
   "execution_count": 11,
   "metadata": {
    "collapsed": true
   },
   "outputs": [],
   "source": [
    "# Set number of integrations\n",
    "nint = 900\n",
    "# Define times at which to calculate light curve (5.5 hour observation)\n",
    "times = np.linspace(-0.114, 0.114, nint)\n",
    "# Initialize model\n",
    "lcmodel = lmfit.Model(batman_wrapper_lmfit, independent_vars = ['times', 'ldtype', 'transitType'])"
   ]
  },
  {
   "cell_type": "code",
   "execution_count": 12,
   "metadata": {
    "collapsed": true
   },
   "outputs": [],
   "source": [
    "# Make a light curve\n",
    "flux = lcmodel.eval(initialParams, times=times, ldtype='quadratic', transitType='primary')"
   ]
  },
  {
   "cell_type": "code",
   "execution_count": 13,
   "metadata": {},
   "outputs": [
    {
     "data": {
      "image/png": "[encoded data removed]",
      "text/plain": [
       "<Figure size 576x432 with 1 Axes>"
      ]
     },
     "metadata": {
      "needs_background": "light"
     },
     "output_type": "display_data"
    }
   ],
   "source": [
    "# Plot the light curve\n",
    "plt.figure(figsize=(8,6))\n",
    "plt.plot(times, flux)\n",
    "plt.axis([times.min(), times.max(), flux.min()-.001, 1.001])\n",
    "a=plt.ylabel(\"Flux\",size=14)\n",
    "a=plt.xlabel(\"Time (Days)\",size=14)"
   ]
  },
  {
   "cell_type": "code",
   "execution_count": 14,
   "metadata": {
    "collapsed": true
   },
   "outputs": [],
   "source": [
    "# Add noise to the light curve\n",
    "err   = 300.e-6  #300 ppm noise \n",
    "flux += np.random.normal(0, err, nint)"
   ]
  },
  {
   "cell_type": "code",
   "execution_count": 15,
   "metadata": {},
   "outputs": [
    {
     "data": {
      "image/png": "[encoded data removed]",
      "text/plain": [
       "<Figure size 576x432 with 1 Axes>"
      ]
     },
     "metadata": {
      "needs_background": "light"
     },
     "output_type": "display_data"
    }
   ],
   "source": [
    "# Plot the new (noisy) light curve\n",
    "plt.figure(figsize=(8,6))\n",
    "plt.plot(times, flux, 'b.')\n",
    "a=plt.xlim(times.min(), times.max())\n",
    "a=plt.ylabel(\"Flux\",size=14)\n",
    "a=plt.xlabel(\"Time (Days)\",size=14)"
   ]
  },
  {
   "cell_type": "code",
   "execution_count": 16,
   "metadata": {
    "collapsed": true
   },
   "outputs": [],
   "source": [
    "# Fit light curve model to the simulated data\n",
    "result = lcmodel.fit(flux,                         # noisy data\n",
    "                     weights     = 1/err,          # residuals = (data-model)*weights\n",
    "                     params      = initialParams,  # Dependent parameters\n",
    "                     times       = times,          # Independent paramter\n",
    "                     ldtype      = 'quadratic',    # Independent paramter\n",
    "                     transitType = 'primary',      # Independent paramter\n",
    "                     method      = 'leastsq')      # Fitting method"
   ]
  },
  {
   "cell_type": "code",
   "execution_count": 17,
   "metadata": {},
   "outputs": [
    {
     "name": "stdout",
     "output_type": "stream",
     "text": [
      "[[Model]]\n",
      "    Model(batman_wrapper_lmfit)\n",
      "[[Fit Statistics]]\n",
      "    # fitting method   = leastsq\n",
      "    # function evals   = 95\n",
      "    # data points      = 900\n",
      "    # variables        = 7\n",
      "    chi-square         = 848.869782\n",
      "    reduced chi-square = 0.95058206\n",
      "    Akaike info crit   = -38.6400702\n",
      "    Bayesian info crit = -5.02330690\n",
      "[[Variables]]\n",
      "    rprs:       0.14687316 +/- 1.8927e-04 (0.13%) (init = 0.147)\n",
      "    period:     5.72149 (fixed)\n",
      "    tcenter:   -1.2673e-05 +/- 1.9068e-05 (150.46%) (init = 0)\n",
      "    inc:        89.9998734 +/- 44.3432261 (49.27%) (init = 89.7)\n",
      "    aprs:       18.2791981 +/- 0.03446639 (0.19%) (init = 18.2)\n",
      "    ecc:        0 (fixed)\n",
      "    omega:      90 (fixed)\n",
      "    u1:         0.27141218 +/- 0.01394808 (5.14%) (init = 0.284)\n",
      "    u2:         0.23310571 +/- 0.03156606 (13.54%) (init = 0.208)\n",
      "    offset:     1.00000193 +/- 1.3696e-05 (0.00%) (init = 1)\n",
      "    slope:      0 (fixed)\n",
      "    curvature:  0 (fixed)\n",
      "[[Correlations]] (unreported correlations are < 0.100)\n",
      "    C(u1, u2)       = -0.937\n",
      "    C(inc, aprs)    =  0.806\n",
      "    C(rprs, u2)     = -0.721\n",
      "    C(rprs, inc)    = -0.571\n",
      "    C(rprs, u1)     =  0.481\n",
      "    C(aprs, u1)     =  0.292\n",
      "    C(aprs, u2)     = -0.285\n",
      "    C(inc, u2)      =  0.230\n",
      "    C(rprs, offset) =  0.184\n",
      "    C(aprs, offset) = -0.128\n",
      "\n"
     ]
    }
   ],
   "source": [
    "# Print report\n",
    "print(result.fit_report())"
   ]
  },
  {
   "cell_type": "code",
   "execution_count": 18,
   "metadata": {},
   "outputs": [
    {
     "data": {
      "image/png": "[encoded data removed]",
      "text/plain": [
       "<Figure size 576x432 with 1 Axes>"
      ]
     },
     "metadata": {
      "needs_background": "light"
     },
     "output_type": "display_data"
    }
   ],
   "source": [
    "# Plot best-fit model overtop of simulated data\n",
    "plt.figure(figsize=(8,6))\n",
    "plt.plot(times, flux, 'b.')\n",
    "plt.plot(times, result.best_fit, 'r-', lw=2)\n",
    "a=plt.xlim(times.min(), times.max())\n",
    "a=plt.ylabel(\"Flux\",size=14)\n",
    "a=plt.xlabel(\"Time (Days)\",size=14)"
   ]
  },
  {
   "cell_type": "markdown",
   "metadata": {},
   "source": [
    "### Now that we understand how BATMAN and LMFIT work, let's load in the time series of 1D spectra and get started!"
   ]
  },
  {
   "cell_type": "code",
   "execution_count": 20,
   "metadata": {},
   "outputs": [
    {
     "name": "stdout",
     "output_type": "stream",
     "text": [
      "900 1700\n"
     ]
    }
   ],
   "source": [
    "# Load simulated 1D spectra\n",
    "foo      = np.load(\"WASP107b-Spec1D.npz\")\n",
    "spec1D   = foo['spec1D']            # Time series of 1D spectra\n",
    "times    = foo['times']             # Integration times in days\n",
    "wave     = foo['wave']              # Wavelength solution in microns\n",
    "err      = 3e-3                     # 3000 ppm uncertainty per point\n",
    "# Get number of integrations and number of pixels\n",
    "nint, nx = spec1D.shape\n",
    "print(nint, nx)"
   ]
  },
  {
   "cell_type": "code",
   "execution_count": null,
   "metadata": {},
   "outputs": [],
   "source": [
    "# Load limb-darkening coefficients\n",
    "binwave, u1, u2 = np.loadtxt('WASP107_LDC.txt', skiprows=5, usecols=(0,1,3), unpack=True)\n",
    "wave_low = binwave - np.ediff1d(binwave)[0]/2.\n",
    "wave_hi  = binwave + np.ediff1d(binwave)[0]/2.\n",
    "nchan    = len(binwave)                             # Number of spectrophotometric channels\n",
    "npix     = int(nx/nchan)                            # Number of pixels per channel\n",
    "res      = np.mean(binwave)/np.ediff1d(binwave)[0]  # Mean resolution\n",
    "print(nchan, npix, res)"
   ]
  },
  {
   "cell_type": "code",
   "execution_count": null,
   "metadata": {
    "scrolled": false
   },
   "outputs": [],
   "source": [
    "# Plot the time series of 1D spectra\n",
    "# This may take a few seconds to complete\n",
    "plt.figure(figsize=(12,8))\n",
    "vmin        = spec1D.min()\n",
    "vmax        = spec1D.max()\n",
    "for j in range(nint):\n",
    "    plt.scatter(wave, np.zeros(spec1D.shape[-1])+j, c=spec1D[j], \n",
    "                s=4,linewidths=0,vmin=vmin,vmax=vmax,marker='s',cmap=plt.cm.RdYlBu_r)\n",
    "plt.xlim(wave[0],wave[-1])\n",
    "plt.ylim(0,nint)\n",
    "plt.ylabel('Integration Number', size=14)\n",
    "plt.xlabel('Wavelength ($\\mu m$)', size=14)\n",
    "a=plt.colorbar()"
   ]
  },
  {
   "cell_type": "code",
   "execution_count": null,
   "metadata": {
    "collapsed": true
   },
   "outputs": [],
   "source": [
    "# Bin 1D spectra into spectrophotometric channels\n",
    "binflux = np.zeros((nchan,nint))\n",
    "binerr  = np.zeros((nchan))\n",
    "for i in range(nchan):\n",
    "    index      = np.where((wave >= wave_low[i])*(wave <= wave_hi[i]))[0]\n",
    "    binflux[i] = np.sum(spec1D[:,index],axis=1)\n",
    "    binerr[i]  = np.sqrt(len(index))*err"
   ]
  },
  {
   "cell_type": "code",
   "execution_count": null,
   "metadata": {
    "collapsed": true
   },
   "outputs": [],
   "source": [
    "# Fit BATMAN transit model to each spectrophotometric light curve\n",
    "results = []\n",
    "for i in range(nchan):\n",
    "    # Set initial parameters using an ordered dictionary of Parameter objects\n",
    "    initialParams = lmfit.Parameters()\n",
    "    # Format: (key, value, vary?, min, max)\n",
    "    initialParams.add_many(                     # WASP-107b paramters from Anderson et al (2017)\n",
    "        ('rprs' , 0.147, True, 0.0, 0.2),       # Free parameter\n",
    "        ('period' , 5.721490, False),\n",
    "        ('tcenter' , 0., False),\n",
    "        ('inc' , 89.7, False),\n",
    "        ('aprs' , 18.2, False),\n",
    "        ('ecc' , 0., False),\n",
    "        ('omega' , 90., False),\n",
    "        ('u1' , u1[i], False),                  # Linear LD coefficient \n",
    "        ('u2' , u2[i], False),                  # Quadratic LD coefficient\n",
    "        ('offset', 1.0, True, 0.0),             # Free parameter\n",
    "        ('slope', 0.0, False),     \n",
    "        ('curvature', 0.0, False))\n",
    "    # Initialize model\n",
    "    lcmodel = lmfit.Model(batman_wrapper_lmfit, independent_vars = ['times', 'ldtype', 'transitType'])\n",
    "    # Fit light curve model to the simulated data\n",
    "    results.append(lcmodel.fit(binflux[i],                   # data\n",
    "                               weights     = 1/binerr[i],    # residuals = (data-model)*weights\n",
    "                               params      = initialParams,  # Dependent parameters\n",
    "                               times       = times,          # Independent paramter\n",
    "                               ldtype      = 'quadratic',    # Independent paramter\n",
    "                               transitType = 'primary',      # Independent paramter\n",
    "                               method      = 'leastsq'))     # Fitting method"
   ]
  },
  {
   "cell_type": "code",
   "execution_count": null,
   "metadata": {},
   "outputs": [],
   "source": [
    "# Print fit report for one of the channels\n",
    "i = 30\n",
    "print(results[i].fit_report())"
   ]
  },
  {
   "cell_type": "code",
   "execution_count": null,
   "metadata": {},
   "outputs": [],
   "source": [
    "# Plot best fit light curve and residuals for the same channel\n",
    "plt.figure(figsize=(8,6))\n",
    "plt.title(str(binwave[i]) + \" microns\")\n",
    "plt.plot(times, binflux[i], 'b.')\n",
    "plt.plot(times, results[i].best_fit, 'r-', lw=2)\n",
    "a=plt.xlim(times.min(), times.max())\n",
    "plt.ylabel(\"Flux\",size=14)\n",
    "plt.xlabel(\"Time (Days)\",size=14)\n",
    "plt.figure(figsize=(8,6))\n",
    "plt.title(str(binwave[i]) + \" microns\")\n",
    "plt.plot(times, results[i].residual, 'k.')\n",
    "a=plt.xlim(times.min(), times.max())\n",
    "plt.ylabel(\"Normalized Residuals\",size=14)\n",
    "plt.xlabel(\"Time (Days)\",size=14)"
   ]
  },
  {
   "cell_type": "code",
   "execution_count": null,
   "metadata": {
    "collapsed": true
   },
   "outputs": [],
   "source": [
    "# Record best-fit radii and formal errors\n",
    "rprs    = np.zeros(nchan)\n",
    "rprserr = np.zeros(nchan)\n",
    "for i in range(nchan):\n",
    "    rprs[i]    = results[i].best_values['rprs']\n",
    "    rprserr[i] = np.sqrt(results[i].covar[0,0])       # Assumes RpRs is 0th free parameter"
   ]
  },
  {
   "cell_type": "code",
   "execution_count": null,
   "metadata": {},
   "outputs": [],
   "source": [
    "# Plot transmission spectrum\n",
    "plt.figure(figsize=(10,5))\n",
    "plt.errorbar(binwave, rprs, rprserr, fmt='b.')\n",
    "plt.ylabel(\"Planet-Star Radius Ratio\",size=14)\n",
    "plt.xlabel(\"Wavelength ($\\mu m$)\",size=14)\n",
    "a=plt.xlim(wave[0],wave[-1])"
   ]
  },
  {
   "cell_type": "code",
   "execution_count": null,
   "metadata": {
    "collapsed": true
   },
   "outputs": [],
   "source": [
    "# Save results to file\n",
    "np.savez(\"WASP107b-TranSpec.npz\", binwave=binwave, rprs=rprs, rprserr=rprserr)"
   ]
  }
 ],
 "metadata": {
  "kernelspec": {
   "display_name": "Python 3",
   "language": "python",
   "name": "python3"
  },
  "language_info": {
   "codemirror_mode": {
    "name": "ipython",
    "version": 3
   },
   "file_extension": ".py",
   "mimetype": "text/x-python",
   "name": "python",
   "nbconvert_exporter": "python",
   "pygments_lexer": "ipython3",
   "version": "3.6.6"
  }
 },
 "nbformat": 4,
 "nbformat_minor": 2
}
